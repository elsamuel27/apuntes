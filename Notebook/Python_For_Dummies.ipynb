{
  "nbformat": 4,
  "nbformat_minor": 0,
  "metadata": {
    "colab": {
      "provenance": [],
      "collapsed_sections": []
    },
    "kernelspec": {
      "name": "python3",
      "display_name": "Python 3"
    },
    "language_info": {
      "name": "python"
    }
  },
  "cells": [
    {
      "cell_type": "markdown",
      "source": [
        "# Licencia"
      ],
      "metadata": {
        "id": "NHTYixKSyTcH"
      }
    },
    {
      "cell_type": "markdown",
      "source": [
        "Este obra está bajo una [licencia de Creative Commons Reconocimiento-NoComercial 4.0 Internacional](http://creativecommons.org/licenses/by-nc/4.0/)"
      ],
      "metadata": {
        "id": "gwSNNezLyVzV"
      }
    },
    {
      "cell_type": "markdown",
      "source": [
        "![image.png](data:image/png;base64,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)"
      ],
      "metadata": {
        "id": "4AxnLJ0jygj5"
      }
    },
    {
      "cell_type": "markdown",
      "source": [
        "# Introducción"
      ],
      "metadata": {
        "id": "yXe74aRj-uX0"
      }
    },
    {
      "cell_type": "markdown",
      "source": [
        "Estos apuntes han sido escritos desde PyCharm, con Python 3.10.6, siguiendo en todo momento el contenido de [este vídeo](https://youtu.be/rfscVS0vtbw)"
      ],
      "metadata": {
        "id": "m96L5pGp-2dp"
      }
    },
    {
      "cell_type": "markdown",
      "source": [
        "Los he exportado a este cuaderno de Colab y ordenado siguiendo el orden de dicho vídeo"
      ],
      "metadata": {
        "id": "s2ABxp73AZm9"
      }
    },
    {
      "cell_type": "markdown",
      "source": [
        "Te recomiendo que hagas lo mismo que hice yo al momento de escribirlos, o que por lo menos veas el vídeo y este cuaderno a la vez"
      ],
      "metadata": {
        "id": "byzrzTEVAmXc"
      }
    },
    {
      "cell_type": "markdown",
      "source": [
        "# Vocabulario"
      ],
      "metadata": {
        "id": "gzAOQJapF2Ks"
      }
    },
    {
      "cell_type": "markdown",
      "source": [
        "Dentro de la programación hay cierto vocabulario que tienes que entender si quieres seguir cualquier tutorial o documentación, es la base"
      ],
      "metadata": {
        "id": "ARERPoBLF4qd"
      }
    },
    {
      "cell_type": "markdown",
      "source": [
        "Variable = Es algo así como una \"caja\" en la que puedes guardar información en la memoria de tu programa para poder usarla más tarde. Siempre que trabajes con algún dato tienes que añadirlo **declarando** una variable cuyo valor sea ese dato. No tiene ningún sentido que dentro del código de tu programa haya un dato que ni siquiera puede usar\n",
        "\n",
        "Iteración = Hay bloques de código como \"If\" y \"While\" (explicados más adelante), que al comenzarlos, las líneas que van después tienen que empezar con unos espacios (o tabs) para que el programa sepa que esas líneas pertenecen al bloque. Ejemplo\n",
        "```\n",
        "while True:\n",
        "  print(\"Never gonna give you up\")\n",
        "```"
      ],
      "metadata": {
        "id": "UzQEfYtjGBAN"
      }
    },
    {
      "cell_type": "markdown",
      "source": [
        "# Hello World"
      ],
      "metadata": {
        "id": "aZE6miXS0cu5"
      }
    },
    {
      "cell_type": "markdown",
      "source": [
        "El programa más popular que todo el mundo ha escrito alguna vez. Con esto aprendes a escribir código que sirva para devolver datos. En Python simplemente es print(\"palabra\")\n",
        "\n",
        "La palabra tiene que estar entre comillas para que sepa que es un texto y no una variable"
      ],
      "metadata": {
        "id": "0ojKntNK0toH"
      }
    },
    {
      "cell_type": "code",
      "source": [
        "print(\"Hello World\")"
      ],
      "metadata": {
        "id": "53dDiXXc-4d0",
        "colab": {
          "base_uri": "https://localhost:8080/"
        },
        "outputId": "e0731020-ba90-405e-bb7c-909f1e68025c"
      },
      "execution_count": null,
      "outputs": [
        {
          "output_type": "stream",
          "name": "stdout",
          "text": [
            "Hello World\n"
          ]
        }
      ]
    },
    {
      "cell_type": "markdown",
      "source": [
        "# Shapes"
      ],
      "metadata": {
        "id": "4WRZHb4DSGmb"
      }
    },
    {
      "cell_type": "code",
      "source": [
        "print(\"   /|\")\n",
        "print(\"  / |\")\n",
        "print(\" /  |\")\n",
        "print(\"/___|\")\n",
        "# parecido al hello world, pero ahora escribimos símbolos para crear una forma"
      ],
      "metadata": {
        "id": "KHn8N7ONSIFg",
        "colab": {
          "base_uri": "https://localhost:8080/"
        },
        "outputId": "80c27aa7-a176-411c-ea9e-6755e260ae33"
      },
      "execution_count": null,
      "outputs": [
        {
          "output_type": "stream",
          "name": "stdout",
          "text": [
            "   /|\n",
            "  / |\n",
            " /  |\n",
            "/___|\n"
          ]
        }
      ]
    },
    {
      "cell_type": "markdown",
      "source": [
        "# Variables"
      ],
      "metadata": {
        "id": "kPhn3dkqTHAK"
      }
    },
    {
      "cell_type": "code",
      "source": [
        "character_name = \"user\"\n",
        "character_age = \"570\"\n",
        "# hacemos 3 variables para usar 2 después\n",
        "print(\"There once was a man named \" + character_name + \", \")\n",
        "print(\"he was \" + character_age + \" years old. \")\n",
        "print(\"He really liked the name \" + character_name + \", \")\n",
        "print(\"but didn't like being \" + character_age + \".\")\n",
        "# El nombre del personaje se menciona varias veces, así que en vez de escribirlo se cita como variable\n",
        "# Puedes darle un valor a una variable y más adelante actualizarlo dándole otro\n",
        "# También puedes escribir \"del [variable]\" para borrarla. Intentar usarla después dará error\n",
        "del character_age\n",
        "del character_name\n",
        "A = 64\n",
        "B = 12\n",
        "print(f\"Abril tiene {B} años y su novio {A}\")\n",
        "# De esta otra forma es más sencillo usar palabras y variables en el mismo print"
      ],
      "metadata": {
        "id": "azYL1lnwTPSW",
        "colab": {
          "base_uri": "https://localhost:8080/"
        },
        "outputId": "d218c057-7057-4c09-e94b-d88685ddde65"
      },
      "execution_count": null,
      "outputs": [
        {
          "output_type": "stream",
          "name": "stdout",
          "text": [
            "There once was a man named user, \n",
            "he was 570 years old. \n",
            "He really liked the name user, \n",
            "but didn't like being 570.\n",
            "Abril tiene 12 años y su novio 64\n"
          ]
        }
      ]
    },
    {
      "cell_type": "markdown",
      "source": [
        "# Strings"
      ],
      "metadata": {
        "id": "Vaoz4lLeSOy-"
      }
    },
    {
      "cell_type": "code",
      "source": [
        "# Una string es solamente texto. Un valor que son caracteres y ya\n",
        "# Vamos a crear uno almacenado en una variable\n",
        "phrase = \"DaBaby Academy\"\n",
        "# Podemos elegir 1 caracter específico de su valor con corchetes\n",
        "print(phrase[8])"
      ],
      "metadata": {
        "colab": {
          "base_uri": "https://localhost:8080/"
        },
        "id": "XNfKSC7KcHB3",
        "outputId": "12fc46dd-8e2d-4bbd-eb4b-7926b83cbedc"
      },
      "execution_count": null,
      "outputs": [
        {
          "output_type": "stream",
          "name": "stdout",
          "text": [
            "c\n"
          ]
        }
      ]
    },
    {
      "cell_type": "markdown",
      "source": [
        "# Números"
      ],
      "metadata": {
        "id": "2ylvdvNSPqx-"
      }
    },
    {
      "cell_type": "code",
      "source": [
        "my_num = 5\n",
        "another_num = -5\n",
        "print(2 + 8)\n",
        "# los valores que son números pueden escribirse sin comillas y pueden participar en operaciones como suma, resta, multiplicación y división\n",
        "print(10 % 3)\n",
        "print(my_num)\n",
        "\n",
        "print(str(my_num) + \" my favourite number\")\n",
        "# para escribir un valor que es un número con otra string necesitamos convertir ese valor a string usando lo anterior\n",
        "print(abs(another_num))\n",
        "# abs va a escribir el valor absoluto de una variable, siendo 5 en el caso de -5\n",
        "print(pow(4, 4))\n",
        "# pow es para elevar un número, siendo el primero la base y el segundo su potencia\n",
        "print(max(4, 6))\n",
        "print(min(4, 6))\n",
        "# max y min escriben el valor más grande o más pequeño, respectivamente\n",
        "print(round(4.2))\n",
        "print(round(4.6))\n",
        "# round redondea el número que reciba"
      ],
      "metadata": {
        "id": "PJ2WCavHPtCZ",
        "colab": {
          "base_uri": "https://localhost:8080/"
        },
        "outputId": "e71bb197-60dc-4081-c467-975a61111526"
      },
      "execution_count": null,
      "outputs": [
        {
          "output_type": "stream",
          "name": "stdout",
          "text": [
            "10\n",
            "1\n",
            "5\n",
            "5 my favourite number\n",
            "5\n",
            "256\n",
            "6\n",
            "4\n",
            "4\n",
            "5\n"
          ]
        }
      ]
    },
    {
      "cell_type": "code",
      "source": [
        "from math import *\n",
        "# el primer import que vamos a usar. Sirve para poder escribir más funciones\n",
        "print(floor(3.7))\n",
        "print(ceil(3.1))\n",
        "# floor y ceil es truncamiento hacia abajo y arriba respectivamente. Es como redondear pero sin criterio\n",
        "print(sqrt(36))\n",
        "# sqrt hace la raíz cuadrada de su número"
      ],
      "metadata": {
        "id": "-PE70JPYQQ17",
        "colab": {
          "base_uri": "https://localhost:8080/"
        },
        "outputId": "981ed2d1-f35f-4f85-e421-581997726b1a"
      },
      "execution_count": null,
      "outputs": [
        {
          "output_type": "stream",
          "name": "stdout",
          "text": [
            "3\n",
            "4\n",
            "6.0\n"
          ]
        }
      ]
    },
    {
      "cell_type": "markdown",
      "source": [
        "# Input"
      ],
      "metadata": {
        "id": "p3TXWbibFGjm"
      }
    },
    {
      "cell_type": "code",
      "source": [
        "name = input(\"Enter your name: \")\n",
        "age = input(\"Enter your age: \")\n",
        "# Aquí Python lo que hace es preguntarle al usuario el valor de 2 variables\n",
        "print(\"Hello \" + name + \"! You are \" + age)\n",
        "# para utilizarlas después"
      ],
      "metadata": {
        "id": "h_dums9YFITD",
        "colab": {
          "base_uri": "https://localhost:8080/"
        },
        "outputId": "9730f2a3-a699-45ab-e8d8-3b0f33c96e2e"
      },
      "execution_count": null,
      "outputs": [
        {
          "output_type": "stream",
          "name": "stdout",
          "text": [
            "Enter your name: Samuel\n",
            "Enter your age: 17\n",
            "Hello Samuel! You are 17\n"
          ]
        }
      ]
    },
    {
      "cell_type": "markdown",
      "source": [
        "# Calculadoras"
      ],
      "metadata": {
        "id": "0kHVvdxL8Pt1"
      }
    },
    {
      "cell_type": "code",
      "source": [
        "num1 = input(\"Enter a number: \")\n",
        "num2 = input(\"Enter another number: \")\n",
        "result = num1 + num2\n",
        "\n",
        "print(result)\n",
        "print(\"Ups, wrong answer. Sorry, try again\")\n",
        "# esto no te da el resultado a la suma. Sólo junta los 2 valores que escriba el usuario\n",
        "# Se debe a que Python no cuenta los valores que da el usuario como números, si no como strings\n",
        "# arréglalo con la función int\n",
        "\n",
        "num1 = input(\"Enter a number: \")\n",
        "num2 = input(\"Enter another number: \")\n",
        "result = int(num1) + int(num2)\n",
        "print(result)\n",
        "# lo malo de esta versión es que es incompatible con decimales\n",
        "# eso se arregla sustituyendo int por float\n",
        "print(\"But maybe you want the sum of decimal numbers?\\nLet's try one more time!\")\n",
        "\n",
        "num1 = input(\"Enter a DECIMAL number: \")\n",
        "num2 = input(\"Enter another number: \")\n",
        "result = float(num1) + float(num2)\n",
        "print(result)"
      ],
      "metadata": {
        "id": "3wHCumky8Sfs",
        "colab": {
          "base_uri": "https://localhost:8080/"
        },
        "outputId": "532f9130-39b2-4d2e-9ea6-978dbb458295"
      },
      "execution_count": null,
      "outputs": [
        {
          "output_type": "stream",
          "name": "stdout",
          "text": [
            "Enter a number: 5\n",
            "Enter another number: 10\n",
            "510\n",
            "Ups, wrong answer. Sorry, try again\n",
            "Enter a number: 5\n",
            "Enter another number: 10\n",
            "15\n",
            "But maybe you want the sum of decimal numbers?\n",
            "Let's try one more time!\n",
            "Enter a DECIMAL number: 2.2\n",
            "Enter another number: 2.2\n",
            "4.4\n"
          ]
        }
      ]
    },
    {
      "cell_type": "code",
      "source": [
        "# La calculadora de antes sólo puede sumar y además se equivoca 2 veces o te tira errores\n",
        "# Desarrollarla ha sido muy bueno para aprender, y mirar el código para repasar, pero toca sustituirla\n",
        "num1 = float(input(\"Enter first number: \"))\n",
        "op = input(\"Enter operator: \")\n",
        "num2 = float(input(\"Enter second number: \"))\n",
        "# Esta vez el usuario, además de 2 números enteros o decimales, va a elegir la operación\n",
        "\n",
        "if op == \"+\":\n",
        "    print(num1 + num2)\n",
        "elif op == \"-\":\n",
        "    print(num1 - num2)\n",
        "elif op == \"/\":\n",
        "    print(num1 / num2)\n",
        "elif op == \"*\":\n",
        "    print(num1 * num2)\n",
        "else:\n",
        "    print(\"Invalid operator\")\n",
        "# Si el operador es + suma, - resta, / divide y * multiplica. Si es otro, tira error"
      ],
      "metadata": {
        "id": "donaIOif8ZBS",
        "colab": {
          "base_uri": "https://localhost:8080/"
        },
        "outputId": "94e47ece-51f4-43b1-a33f-abe8a0524d2b"
      },
      "execution_count": null,
      "outputs": [
        {
          "output_type": "stream",
          "name": "stdout",
          "text": [
            "Enter first number: 30\n",
            "Enter operator: *\n",
            "Enter second number: 18\n",
            "540.0\n"
          ]
        }
      ]
    },
    {
      "cell_type": "markdown",
      "source": [
        "# Mad Libs"
      ],
      "metadata": {
        "id": "qSX9CpC-OIh-"
      }
    },
    {
      "cell_type": "code",
      "source": [
        "# Este programa agarra palabras como verbos, sustantivos, etc, y las pone en una historia\n",
        "# Vamos a poner de ejemplo un poema clásico\n",
        "color = input(\"Enter a color: \")\n",
        "plural_noun = input(\"Enter a plural noun: \")\n",
        "celebrity = input(\"Enter a Celebrity: \")\n",
        "\n",
        "print(\"Roses are \" + color)\n",
        "print(plural_noun + \" are blue\")\n",
        "print(\"I love \" + celebrity)\n",
        "# esto ya lo hemos hecho antes. Simplemente se le pide al usuario un valor para esas variables y se incluyen en el texto\n",
        "# parecido al proyecto de variables, pero más divertido"
      ],
      "metadata": {
        "id": "Ml7-RCbvOKaW",
        "colab": {
          "base_uri": "https://localhost:8080/"
        },
        "outputId": "986c730a-5d2b-4e9e-94cc-e09efb6ff097"
      },
      "execution_count": null,
      "outputs": [
        {
          "output_type": "stream",
          "name": "stdout",
          "text": [
            "Enter a color: green\n",
            "Enter a plural noun: Amongas\n",
            "Enter a Celebrity: Justin Bieber\n",
            "Roses are green\n",
            "Amongas are blue\n",
            "I love Justin Bieber\n"
          ]
        }
      ]
    },
    {
      "cell_type": "markdown",
      "source": [
        "# Listas"
      ],
      "metadata": {
        "id": "Jl_IAmYSKi_X"
      }
    },
    {
      "cell_type": "code",
      "source": [
        "friends = [\"BOT1\", \"BOT2\", \"BOT3\"]\n",
        "#                0          1           2\n",
        "#               -3         -2          -1\n",
        "# En programación se empieza a contar a partir del 0\n",
        "# Se puede contar a la inversa, en negativo\n",
        "print(friends)\n",
        "# Escribe la lista entera\n",
        "print(friends[0])\n",
        "# Escribe el valor que le digas\n",
        "print(friends[-2])\n",
        "friends[0] = \"BOT20\"\n",
        "print(friends[0])\n",
        "print(friends)"
      ],
      "metadata": {
        "id": "jEM4REn4KtTQ",
        "colab": {
          "base_uri": "https://localhost:8080/"
        },
        "outputId": "c9c7a4b4-53cc-4d64-ba1f-eeff94521568"
      },
      "execution_count": null,
      "outputs": [
        {
          "output_type": "stream",
          "name": "stdout",
          "text": [
            "['BOT1', 'BOT2', 'BOT3']\n",
            "BOT1\n",
            "BOT2\n",
            "BOT20\n",
            "['BOT20', 'BOT2', 'BOT3']\n"
          ]
        }
      ]
    },
    {
      "cell_type": "code",
      "source": [
        "lucky_numbers = [2, 4, 5, 9, 27]\n",
        "friends = [\"BOT1\", \"BOT2\", \"BOT3\", \"BOT4\", \"BOT5\"]\n",
        "friends.extend(lucky_numbers)\n",
        "# Esto junta el contenido de una lista a otra, y se ve reflejado en el print\n",
        "friends.append(\"Sus\")\n",
        "# Añade un objeto a la lista, al final\n",
        "friends.insert(1, \"Baka\")\n",
        "# Añade un objeto pero eligiendo su ubicación\n",
        "friends.remove(\"Sus\")\n",
        "# Elimina un objeto de la lista\n",
        "# Si intentas eliminar algo que no está en la lista va a saltar un error\n",
        "# Que se puede sortear con if else\n",
        "friends.pop()\n",
        "# Elimina el último objeto de la lista\n",
        "print(friends)\n",
        "\n",
        "print(friends.index(\"BOT3\"))\n",
        "# Escribe la ubicación en la lista del valor que elijas\n",
        "# Hacer esto con un valor que no está en la lista te salta un error\n",
        "print(friends.count(\"BOT\"))\n",
        "# Cuenta cuántas veces sale un valor en la lista\n",
        "lucky_numbers.sort()\n",
        "# Ordena de menor a mayor los números de una lista. Si los valores son strings da error\n",
        "friends.reverse()\n",
        "print(friends)\n",
        "# Invierte el orden de los valores. Da igual que tenga strings o números\n",
        "friends2 = friends.copy()\n",
        "print(friends2)\n",
        "# Hace una copia de lista\n",
        "\n",
        "# También podemos verificar si un elemento está en una lista de la siguiente forma\n",
        "# Los casos serán True y False, respectivamente\n",
        "\"BOT2\" in friends\n",
        "\"Motomami\" in friends\n",
        "vocales = [\"a\", \"e\", \"i\", \"o\", \"u\"]\n",
        "\"a\" in vocales\n",
        "# Por alguna razón estos últimos comandos los pilla el interpretador solamente\n",
        "\n",
        "friends[9] = \"Un gordo\"\n",
        "# Cambia un valor de la lista\n",
        "print(friends)"
      ],
      "metadata": {
        "id": "U03kJGsBKzYV",
        "colab": {
          "base_uri": "https://localhost:8080/"
        },
        "outputId": "fbc463bc-daa3-4836-d507-b8d166e0d75f"
      },
      "execution_count": null,
      "outputs": [
        {
          "output_type": "stream",
          "name": "stdout",
          "text": [
            "['BOT1', 'Baka', 'BOT2', 'BOT3', 'BOT4', 'BOT5', 2, 4, 5, 9]\n",
            "3\n",
            "0\n",
            "[9, 5, 4, 2, 'BOT5', 'BOT4', 'BOT3', 'BOT2', 'Baka', 'BOT1']\n",
            "[9, 5, 4, 2, 'BOT5', 'BOT4', 'BOT3', 'BOT2', 'Baka', 'BOT1']\n",
            "[9, 5, 4, 2, 'BOT5', 'BOT4', 'BOT3', 'BOT2', 'Baka', 'Un gordo']\n"
          ]
        }
      ]
    },
    {
      "cell_type": "markdown",
      "source": [
        "<H2>Listas 2D</H2>"
      ],
      "metadata": {
        "id": "cPEpGIiXK6gK"
      }
    },
    {
      "cell_type": "code",
      "source": [
        "number_dick = [\n",
        "    1, 2, 3, 4\n",
        "]\n",
        "# Una lista convencional, con todos los valores y ya\n",
        "\n",
        "number_grid = [\n",
        "    [1, 2, 3],\n",
        "    [4, 5, 6],\n",
        "    [7, 8, 9],\n",
        "    [0]\n",
        "]\n",
        "# En este tipo de lista, los valores también son listas\n",
        "print(number_grid[0][0])\n",
        "# El primer valor es el índice de la lista y el segundo es el índice del valor"
      ],
      "metadata": {
        "id": "KlaqoRWeLAOP",
        "colab": {
          "base_uri": "https://localhost:8080/"
        },
        "outputId": "62946b1f-cc9d-4075-93fd-3f8c95f3f3fa"
      },
      "execution_count": null,
      "outputs": [
        {
          "output_type": "stream",
          "name": "stdout",
          "text": [
            "1\n"
          ]
        }
      ]
    },
    {
      "cell_type": "markdown",
      "source": [
        "<h2>Nested Loops</h2>"
      ],
      "metadata": {
        "id": "0TYS_i8wXdKF"
      }
    },
    {
      "cell_type": "code",
      "source": [
        "number_grid = [\n",
        "    [1, 2, 3],\n",
        "    [4, 5, 6],\n",
        "    [7, 8, 9],\n",
        "    [0]\n",
        "]\n",
        "\n",
        "for row in number_grid:\n",
        "    print(row)\n",
        "# Escribe todas las filas de la lista\n",
        "for row in number_grid:\n",
        "    for col in row:\n",
        "        print(col)\n",
        "# Escribe todos los valores de la lista individualmente"
      ],
      "metadata": {
        "id": "WULUbT7TYA5g",
        "colab": {
          "base_uri": "https://localhost:8080/"
        },
        "outputId": "ca0ea2e2-6438-4745-b86a-5b5e30cb0fbc"
      },
      "execution_count": null,
      "outputs": [
        {
          "output_type": "stream",
          "name": "stdout",
          "text": [
            "[1, 2, 3]\n",
            "[4, 5, 6]\n",
            "[7, 8, 9]\n",
            "[0]\n",
            "1\n",
            "2\n",
            "3\n",
            "4\n",
            "5\n",
            "6\n",
            "7\n",
            "8\n",
            "9\n",
            "0\n"
          ]
        }
      ]
    },
    {
      "cell_type": "markdown",
      "source": [
        "# Tuplas"
      ],
      "metadata": {
        "id": "RjONJXfRTAiS"
      }
    },
    {
      "cell_type": "code",
      "source": [
        "# Parecido a las listas, se crea usando paréntesis en lugar de corchetes\n",
        "coordinates = (4, 5)\n",
        "# No puedes manipular sus valores, al contrario que las listas\n",
        "# Si lo intentas te lanzará un error\n",
        "print(coordinates)\n",
        "print(coordinates[1])\n",
        "# Sirve para valores que nunca van a cambiar\n",
        "coordinates2 = [(4, 5), (6, 7), (80,34)]\n",
        "print(coordinates2)"
      ],
      "metadata": {
        "id": "wVfb409ETErI",
        "colab": {
          "base_uri": "https://localhost:8080/"
        },
        "outputId": "b1b1d04b-dd69-44c6-95ca-5a5b0333c621"
      },
      "execution_count": null,
      "outputs": [
        {
          "output_type": "stream",
          "name": "stdout",
          "text": [
            "(4, 5)\n",
            "5\n",
            "[(4, 5), (6, 7), (80, 34)]\n"
          ]
        }
      ]
    },
    {
      "cell_type": "markdown",
      "source": [
        "# Funciones"
      ],
      "metadata": {
        "id": "7ztAFT2A-FuY"
      }
    },
    {
      "cell_type": "code",
      "source": [
        "# Una función es un bloque de código que hace algo que el programa va a usar varias veces\n",
        "# Se usa para, en lugar de escribir el mismo código varias veces, llamar a dicha función y listo\n",
        "def sayhi():\n",
        "    print(\"Hello User\")\n",
        "# Ahora el código tiene una función llamada \"sayhi\" que va a ejecutar un print\n",
        "# Puedes llamar a esa función escribiendo su nombre solamente\n",
        "print(\"Top\")\n",
        "sayhi()\n",
        "print(\"Botton\")\n",
        "# Y se pueden usar los paréntesis de una función para incluirle un parámetro\n",
        "def say_hi(name):\n",
        "    print(\"Hello \" + name)\n",
        "# He creado otra función que esta vez pide un nombre, el cual va a usar en su print\n",
        "say_hi(\"Samuel\")\n",
        "# Una función puede tener todos los parámetros que quieras\n",
        "def saludar(name, age):\n",
        "    print(\"Hello \" + name + \", you are \" + str(age) + \" years old\" )\n",
        "saludar(\"Samuel\", 17)\n",
        "# Estas funciones son muy básicas, sólo tienen 1 línea de código\n",
        "# Fuera de las prácticas vas a usarlas para bloques más grandes"
      ],
      "metadata": {
        "id": "t_an_bQx-ItX",
        "colab": {
          "base_uri": "https://localhost:8080/"
        },
        "outputId": "57f4ebef-f6ca-42cd-b460-8fade334caac"
      },
      "execution_count": null,
      "outputs": [
        {
          "output_type": "stream",
          "name": "stdout",
          "text": [
            "Top\n",
            "Hello User\n",
            "Botton\n",
            "Hello Samuel\n",
            "Hello Samuel, you are 17 years old\n"
          ]
        }
      ]
    },
    {
      "cell_type": "markdown",
      "source": [
        "# Return"
      ],
      "metadata": {
        "id": "HZUcaRCyQ9EB"
      }
    },
    {
      "cell_type": "code",
      "source": [
        "# Es una función pensada para DEVOLVER (return) un valor en base a lo que haga\n",
        "# Como en el caso de ahora, que recibe como argumento un número y este se multiplica a sí mismo 3 veces\n",
        "def cube(num):\n",
        "    return num*num*num\n",
        "# Algo a tener en cuenta de return es que el código que vaya después (Dentro de la función) va a ser ignorado\n",
        "print(cube(3))"
      ],
      "metadata": {
        "id": "hMgYOCqcQ_Rd",
        "colab": {
          "base_uri": "https://localhost:8080/"
        },
        "outputId": "22451b5c-0892-420c-db5d-70e8a2bd5c7a"
      },
      "execution_count": null,
      "outputs": [
        {
          "output_type": "stream",
          "name": "stdout",
          "text": [
            "27\n"
          ]
        }
      ]
    },
    {
      "cell_type": "markdown",
      "source": [
        "# If"
      ],
      "metadata": {
        "id": "BvcDEX-7DutQ"
      }
    },
    {
      "cell_type": "code",
      "source": [
        "# Aquí vamos a usar valores de True o False, y dependiendo de su valor el programa hará una cosa u otra\n",
        "is_male = True\n",
        "is_tall = False\n",
        "if is_male:\n",
        "     print(\"You are a male\")\n",
        "else:\n",
        "    print(\"You aren't a male\")\n",
        "# El código dice literalmente, si es hombre, escribir \"Eres hombre\". Si no, escribir \"No eres hombre\"\n",
        "# Vamos a complicarlo un poco con 2 valores y más condicionales\n",
        "if is_male and is_tall:\n",
        "    print(\"omg sexy baka\")\n",
        "if is_male or is_tall:\n",
        "    print(\"maboy\")\n",
        "# Con \"and\" tienen que ser verdaderos los 2 valores, con \"or\" vale si es uno\n",
        "if is_male and not(is_tall):\n",
        "    print(\"energuia moment\")\n",
        "# También se puede añadir un not para comprobar si un valor es falso\n",
        "# Y se puede usar elif para hacer la misma comprobación pero con valores invertidos"
      ],
      "metadata": {
        "id": "b49cjZ9ADxRr",
        "colab": {
          "base_uri": "https://localhost:8080/"
        },
        "outputId": "f2afcef1-4723-4814-c467-05bbbd9b0620"
      },
      "execution_count": null,
      "outputs": [
        {
          "output_type": "stream",
          "name": "stdout",
          "text": [
            "You are a male\n",
            "maboy\n",
            "energuia moment\n"
          ]
        }
      ]
    },
    {
      "cell_type": "code",
      "source": [
        "# Vamos a usar if para comparar valores\n",
        "def max_num(num1, num2, num3):\n",
        "    if num1 >= num2 and num1 >= num3:\n",
        "        return num1\n",
        "    elif num2 >= num1 and num2 >= num3:\n",
        "        return num2\n",
        "    else:\n",
        "        return num3\n",
        "# Esta función recibe 3 números y comprueba cuál de todos es el mayor.\n",
        "# Primero mira si el primero es igual o mayor que los 2 restantes, luego repite el proceso con el resto\n",
        "\n",
        "print(max_num(420, 832, 160))"
      ],
      "metadata": {
        "id": "ttjKjj8MEkBh",
        "colab": {
          "base_uri": "https://localhost:8080/"
        },
        "outputId": "6d63bc8b-80f6-42f4-9af1-3dcf47080c23"
      },
      "execution_count": null,
      "outputs": [
        {
          "output_type": "stream",
          "name": "stdout",
          "text": [
            "832\n"
          ]
        }
      ]
    },
    {
      "cell_type": "markdown",
      "source": [
        "# Diccionarios"
      ],
      "metadata": {
        "id": "BDl5P7Yz812i"
      }
    },
    {
      "cell_type": "code",
      "source": [
        "# Jan -> January\n",
        "# Mar -> March\n",
        "# La idea de este programa es que pueda hacer lo de arriba. Eso se hace con un diccionario\n",
        "monthConversions = {\n",
        "    \"Jan\": \"January\",\n",
        "    \"Feb\": \"February\",\n",
        "    \"Mar\": \"March\",\n",
        "}\n",
        "print(monthConversions)\n",
        "print(monthConversions[\"Feb\"])\n",
        "# Se puede mostrar en pantalla con un print, o se puede mostrar una conversión en concreto\n",
        "# Muy parecido a las listas (Un poco más a los tuples)\n",
        "print(monthConversions.get(\"Jan\"))\n",
        "# La diferencia entre los corchetes y el get es que si citas una conversión que no tiene resultado\n",
        "# te va a poner un \"None\", pero con los corchetes va a darte error\n",
        "# O te puede dar un valor que elijas tú\n",
        "print(monthConversions.get(\"Om\", \"Incorrect\"))\n",
        "# Un diccionario también puede funcionar con números\n",
        "monthNumbers = {\n",
        "    0: \"January\",\n",
        "    1: \"February\",\n",
        "    2: \"March\",\n",
        "}\n",
        "print(monthNumbers)\n",
        "print(monthNumbers.get(1))\n",
        "print(monthNumbers.get(5))\n",
        "# Aplica igual en ambos casos"
      ],
      "metadata": {
        "id": "V1we1ZAD87YE",
        "colab": {
          "base_uri": "https://localhost:8080/"
        },
        "outputId": "dd877acd-8c1b-437f-de02-06cc58b61e7d"
      },
      "execution_count": null,
      "outputs": [
        {
          "output_type": "stream",
          "name": "stdout",
          "text": [
            "{'Jan': 'January', 'Feb': 'February', 'Mar': 'March'}\n",
            "February\n",
            "January\n",
            "Incorrect\n",
            "{0: 'January', 1: 'February', 2: 'March'}\n",
            "February\n",
            "None\n"
          ]
        }
      ]
    },
    {
      "cell_type": "markdown",
      "source": [
        "# While Loops"
      ],
      "metadata": {
        "id": "FdUW7UvBTTli"
      }
    },
    {
      "cell_type": "code",
      "source": [
        "# Este programa dice que i = 1 y que mientras sea menor o igual a 10 se le sume 1.\n",
        "# Hace un bucle que muestra i, le suma 1, lo muestra otra vez, suma 1 y así hasta 10\n",
        "i = 1\n",
        "while i <= 10:\n",
        "    print(i)\n",
        "    i += 1\n",
        "# Hace lo mismo que i = i + 1, se usa mucho así\n",
        "print(\"Done with loop\")\n",
        "# También puedes hacer un loop infinito con while True\n",
        "# Y romper cualquier loop con \"break\""
      ],
      "metadata": {
        "id": "fK4xPFN3TWSI",
        "colab": {
          "base_uri": "https://localhost:8080/"
        },
        "outputId": "c99778f3-74f3-4de8-e663-93248ea283de"
      },
      "execution_count": null,
      "outputs": [
        {
          "output_type": "stream",
          "name": "stdout",
          "text": [
            "1\n",
            "2\n",
            "3\n",
            "4\n",
            "5\n",
            "6\n",
            "7\n",
            "8\n",
            "9\n",
            "10\n",
            "Done with loop\n"
          ]
        }
      ]
    },
    {
      "cell_type": "markdown",
      "source": [
        "# Adivinanza"
      ],
      "metadata": {
        "id": "bAlmXNLQ7Yr_"
      }
    },
    {
      "cell_type": "markdown",
      "source": [
        "1º"
      ],
      "metadata": {
        "id": "F9DdBDHL7vVK"
      }
    },
    {
      "cell_type": "code",
      "source": [
        "# La idea es que el programa contenga una palabra secreta. El usuario interactuará con el programa para adivinarla\n",
        "secret_word = \"Linux\"\n",
        "guess = \"\"\n",
        "# Queremos que el usuario intente una y otra vez hasta acertar la palabra. Para eso va perfecto un while\n",
        "\n",
        "while guess != secret_word:\n",
        "    guess = input(\"Enter the secret word: \")\n",
        "\n",
        "print(\"You win!\")\n",
        "# El programa le pregunta al usuario la palabra,\n",
        "# y mientras esta no coincida con su respuesta,\n",
        "# lo seguirá repitiendo hasta que acierte\n"
      ],
      "metadata": {
        "id": "n7YSDbaO7jfT",
        "colab": {
          "base_uri": "https://localhost:8080/"
        },
        "outputId": "ca554b1b-5d1b-4b90-ab4a-3e0206a1bb5c"
      },
      "execution_count": null,
      "outputs": [
        {
          "output_type": "stream",
          "name": "stdout",
          "text": [
            "Enter the secret word: omagad\n",
            "Enter the secret word: sus\n",
            "Enter the secret word: Linux\n",
            "You win!\n"
          ]
        }
      ]
    },
    {
      "cell_type": "markdown",
      "source": [
        "2º"
      ],
      "metadata": {
        "id": "nk5pRkpP7xqg"
      }
    },
    {
      "cell_type": "code",
      "source": [
        "# Esta vez el usuario va a tener límite de intentos\n",
        "secret_word = \"Linux\"\n",
        "guess = \"\"\n",
        "guess_count = 0\n",
        "guess_limit = 3\n",
        "out_of_guesses = False\n",
        "# Para esto va perfecto un while\n",
        "\n",
        "while guess != secret_word and not(out_of_guesses):\n",
        "    if guess_count < guess_limit:\n",
        "        guess = input(\"Enter the secret word: \")\n",
        "        guess_count += 1\n",
        "\n",
        "    else:\n",
        "        out_of_guesses = True\n",
        "if out_of_guesses:\n",
        "    print(\"Out of guesses, you lose!\")\n",
        "else:\n",
        "    print(\"You win!\")\n",
        "if guess != secret_word and not(out_of_guesses):\n",
        "    print(\"You win!\")\n",
        "# El programa le pregunte al usuario la palabra,\n",
        "# y si no coincide con su respuesta,\n",
        "# le resta un intento. Al quedarse sin intentos, echa un mensaje de derrota\n"
      ],
      "metadata": {
        "id": "UTamn-fc7yZs",
        "colab": {
          "base_uri": "https://localhost:8080/"
        },
        "outputId": "27811f19-a3c2-4251-94ef-d81ce7af6f70"
      },
      "execution_count": null,
      "outputs": [
        {
          "output_type": "stream",
          "name": "stdout",
          "text": [
            "Enter the secret word: 17\n",
            "Enter the secret word: 23\n",
            "Enter the secret word: 43\n",
            "Out of guesses, you lose!\n"
          ]
        }
      ]
    },
    {
      "cell_type": "markdown",
      "source": [
        "# For Loop"
      ],
      "metadata": {
        "id": "7ljm3XL79RK9"
      }
    },
    {
      "cell_type": "code",
      "source": [
        "# Vamos a probar este comando con una lista anterior\n",
        "friends = [\"IA1\", \"IA2\", \"IA3\", \"IA4\", \"IA5\"]\n",
        "for friend in friends:\n",
        "    print(friend)\n",
        "# Esto lo que hace es definir los objetos de las listas\n",
        "# En este caso un objeto de la lista \"friends\" se llamaría \"friend\"\n",
        "# Escribe la string y en caso de lista escribe todos los valores\n",
        "for index in range(3, 10):\n",
        "    print(index)\n",
        "# Imprime todos los números del 3 al 10 sin contar el 10.\n",
        "# El segundo número del range no se va a mostrar\n",
        "for index in range(len(friends)):\n",
        "    print(friends[index])\n",
        "\n",
        "for index in range(5):\n",
        "    if index == 0:\n",
        "        print(\"first Iteration\")\n",
        "    else:\n",
        "        print(\"Not first\")\n",
        "# Escribe index 5 veces, si es 0 pone una cosa y si no otra"
      ],
      "metadata": {
        "id": "vqTX4W_k9W4Z",
        "colab": {
          "base_uri": "https://localhost:8080/"
        },
        "outputId": "9f6f9b8d-55b9-44c6-92b1-75ec1da87710"
      },
      "execution_count": null,
      "outputs": [
        {
          "output_type": "stream",
          "name": "stdout",
          "text": [
            "IA1\n",
            "IA2\n",
            "IA3\n",
            "IA4\n",
            "IA5\n",
            "3\n",
            "4\n",
            "5\n",
            "6\n",
            "7\n",
            "8\n",
            "9\n",
            "IA1\n",
            "IA2\n",
            "IA3\n",
            "IA4\n",
            "IA5\n",
            "first Iteration\n",
            "Not first\n",
            "Not first\n",
            "Not first\n",
            "Not first\n"
          ]
        }
      ]
    },
    {
      "cell_type": "markdown",
      "source": [
        "# Funciones exponenciales"
      ],
      "metadata": {
        "id": "8ysRZ4zj92r0"
      }
    },
    {
      "cell_type": "code",
      "source": [
        "print(2**3)\n",
        "# Un asterisco es multiplicación y 2 es elevar al cuadrado. Qué susto\n",
        "# Vamos a hacer eso con una función\n",
        "def elevar(base, pow):\n",
        "    result = 1\n",
        "    for index in range(pow):\n",
        "        result = result * base\n",
        "    return result\n",
        "print(elevar(40,190))\n",
        "# Este código lo que hace es agarrar una base y un exponente.\n",
        "# Elige el número base y usa el exponente para determinar cuántas veces tiene que multiplicarlo por sí mismo\n",
        "# Esto lo hace indexando la potencia, con lo que le muestra cuántas veces ejecutar la línea 8"
      ],
      "metadata": {
        "id": "zj7OtOIg98sQ",
        "colab": {
          "base_uri": "https://localhost:8080/"
        },
        "outputId": "c907a354-7584-47f6-ad8f-56b5adf632a0"
      },
      "execution_count": null,
      "outputs": [
        {
          "output_type": "stream",
          "name": "stdout",
          "text": [
            "8\n",
            "24626253872746549507674400062589758628174837044040904167467683377653576107185756632133916409303072275504142493941760000000000000000000000000000000000000000000000000000000000000000000000000000000000000000000000000000000000000000000000000000000000000000000000000000000000000000000000000000000000000000000000\n"
          ]
        }
      ]
    },
    {
      "cell_type": "markdown",
      "source": [
        "# Traductor"
      ],
      "metadata": {
        "id": "WEPH_22CSlCI"
      }
    },
    {
      "cell_type": "code",
      "source": [
        "#  Este traductor servirá para sustituir vocales por otro caracter\n",
        "def translate(phrase):\n",
        "    translation = \"\"\n",
        "    for letter in phrase:\n",
        "        if letter.lower() in \"aeiou\":\n",
        "            if letter.isupper():\n",
        "                translation = translation + \"E\"\n",
        "            else:\n",
        "                translation = translation + \"e\"\n",
        "\n",
        "        else:\n",
        "            translation = translation + letter\n",
        "    return translation\n",
        "\n",
        "# Comprueba si la frase tiene una vocal, ya sea mayúscula o minúscula,\n",
        "# y la sustituye por e. Sí, sustituye una E por E también. No voy a cambiarlo\n",
        "print(translate((input(\"Enter a phrase: \"))))"
      ],
      "metadata": {
        "id": "JarAMAl4Svjd",
        "colab": {
          "base_uri": "https://localhost:8080/"
        },
        "outputId": "3ac430d7-10f7-48ec-aeb5-b7c3faa50a6c"
      },
      "execution_count": null,
      "outputs": [
        {
          "output_type": "stream",
          "name": "stdout",
          "text": [
            "Enter a phrase: Mi moto alpina derrapante\n",
            "Me mete elpene derrepente\n"
          ]
        }
      ]
    },
    {
      "cell_type": "markdown",
      "source": [
        "# Comentarios"
      ],
      "metadata": {
        "id": "m17Pbj7VYUvB"
      }
    },
    {
      "cell_type": "code",
      "source": [
        "score = 400\n",
        "# La línea de arriba es código, esta es un comentario"
      ],
      "metadata": {
        "id": "-0CBJHPNYcmq"
      },
      "execution_count": null,
      "outputs": []
    },
    {
      "cell_type": "markdown",
      "source": [
        "Los comentarios son una línea (ya puede ser texto o código) que empieza con un #, por lo que al momento de ejecutar el programa, esta línea se va a ignorar. Sirve para escribir alrededor del código, con lo que puedes poner anotaciones sobre lo que hace un bloque, por ejemplo\n",
        "\n",
        "En Colab tienes celdas de texto y código, por lo que puedes usarlos menos, pero en una IDE convencional todo tu código está junto en un archivo y si quieres escribir entre líneas debe ser con comentarios."
      ],
      "metadata": {
        "id": "AcARmBqUYh65"
      }
    },
    {
      "cell_type": "code",
      "source": [
        "\"\"\"\n",
        "Otra forma de escribir un comentario es así, empezando y terminando con \" 3 veces\n",
        "Así puedes tener 2 líneas con las comillas y entre ellas todas las líneas de texto que quieras, como si fuera una celda de texto\n",
        "Esto sí funcionaría también en tu IDE local\n",
        "\"\"\""
      ],
      "metadata": {
        "id": "wxu6z3LwaAIZ"
      },
      "execution_count": null,
      "outputs": []
    },
    {
      "cell_type": "markdown",
      "source": [
        "# TryExcept"
      ],
      "metadata": {
        "id": "f9PN3iphS6vH"
      }
    },
    {
      "cell_type": "code",
      "source": [
        "# Esta lección va sobre cómo afrontar los errores a los que te enfrentes programando\n",
        "number = int(input(\"Enter a number: \"))\n",
        "print(number)\n",
        "# Este programa le pide al usuario un número entero y lo muestra, pero si introduce otro valor salta error\n",
        "# Se debe a que el input del usuario se convierte en un número entero, no lo deja como string\n",
        "# Podemos hacer que el programa haga otra cosa y continúe con un \"Try/Except\"\n",
        "try:\n",
        "    number = int(input(\"Enter a number: \"))\n",
        "    print(number)\n",
        "except:\n",
        "    print(\"Invalid number\")\n",
        "# El programa literalmente dice: Intenta (líneas de código anteriores), si no funciona, escribe \"Invalid number\"\n",
        "# Esto sirve para proteger al programa de casos así, que el usuario introduzca algo que no va ahí\n",
        "# Es capaz de manejar errores más grandes, como un valor que se divida entre 0\n",
        "try:\n",
        "    broken_value = 10 / 0\n",
        "except:\n",
        "    print(\"Hey, there is a broken value in the program\")\n",
        "\n",
        "# También puedes hacer un except que actúe ante un error en concreto\n",
        "# Viene bien para tener una respuesta para cada error al que tu programa pueda enfrentarse\n",
        "# A más complejo el programa, más errores posibles. Este código es VITAL\n",
        "try:\n",
        "    omagad = 69420 / 0\n",
        "except ZeroDivisionError:\n",
        "    print(\"plz help\")\n",
        "# Un \"try\" puede acabar en varios except si especificas el error\n",
        "try:\n",
        "    number = int(input(\"Enter a division: \"))\n",
        "    print(number)\n",
        "except ValueError:\n",
        "    print(\"Invalid input\")\n",
        "except ZeroDivisionError:\n",
        "    print(\"But the division cannot use 0!\")\n",
        "# Nota, un print(err) va a escribir el error"
      ],
      "metadata": {
        "id": "doC7GHW4S-SI",
        "colab": {
          "base_uri": "https://localhost:8080/"
        },
        "outputId": "174afc29-2796-4e4b-ad0f-5a9ab5665a7e"
      },
      "execution_count": null,
      "outputs": [
        {
          "output_type": "stream",
          "name": "stdout",
          "text": [
            "Enter a number: 30\n",
            "30\n",
            "Enter a number: 10\n",
            "10\n",
            "Hey, there is a broken value in the program\n",
            "plz help\n",
            "Enter a division: 0/10\n",
            "Invalid input\n"
          ]
        }
      ]
    },
    {
      "cell_type": "markdown",
      "source": [
        "# Manipular archivos"
      ],
      "metadata": {
        "id": "1ZzZXU-4Jy-O"
      }
    },
    {
      "cell_type": "markdown",
      "source": [
        "<H2>Editar</H2>"
      ],
      "metadata": {
        "id": "8uhNm7UfJ-R2"
      }
    },
    {
      "cell_type": "code",
      "source": [
        "# Primero vamos a usar la a (append)\n",
        "# Esto hace que \"write\" escriba al final del archivo lo que queramos\n",
        "information = open(\"warframes.txt\", \"a\")\n",
        "information.write(\"Pibote - Octavia\")\n",
        "information.close()\n",
        "# Si queremos que lo que se añada esté en la última fila, lo mejor es añadir ese salto\n",
        "# Con el ya mencionado \\n\n",
        "information = open(\"warframes.txt\", \"a\")\n",
        "information.write(\"\\nTanque - Baruuk\")\n",
        "information.close()\n",
        "# Si en vez de a usamos w, lo que escribamos va a sustituir a todo el contenido del archivo\n",
        "information = open(\"warframes.txt\", \"w\")\n",
        "information.write(\"\\nTanque - Baruuk\")\n",
        "information.close()\n",
        "# Se puede usar w con un nombre de archivo inexistente para crearlo\n",
        "information = open(\"amongas.txt\", \"w\")\n",
        "information.write(\"El sus\")\n",
        "information.close()\n",
        "# Se puede sustituir información de un archivo, añadirla o hacer un archivo nuevo\n",
        "information = open(\"amongas.exe\", \"w\")\n",
        "information.write(\"El hackeo sospechoso\")\n",
        "information.close()\n",
        "# Es un exe y se detecta como tal pero no hace nada"
      ],
      "metadata": {
        "id": "YZ-3sy6c9A7R"
      },
      "execution_count": null,
      "outputs": []
    },
    {
      "cell_type": "markdown",
      "source": [
        "<H2>Leer</H2>"
      ],
      "metadata": {
        "id": "KKfy5-uEJ4Xc"
      }
    },
    {
      "cell_type": "code",
      "source": [
        "# Vamos a aprender cómo hacer para que un archivo de Python pueda leer archivos de fuera\n",
        "# En el comando open hay que poner el nombre con su ruta completa, a menos que esté en la misma carpeta\n",
        "open(\"warframes.txt\", \"r\")\n",
        "# Una r significa read, para leer el archivo sin modificarlo\n",
        "# Con una w (write) podríamos escribir en él\n",
        "# a (append) es como write pero sólo para añadir información, no podría modificar o borrar\n",
        "# Por último, r+ es para leer y escribir\n",
        "# La idea es guardar el contenido del archivo en una variable, haciéndola igual a abrirlo\n",
        "information = open(\"warframes.txt\", \"r\")\n",
        "# Además de abrir un archivo, también hay que cerrarlo\n",
        "information.close()\n",
        "# Pero vamos a abrirlo otra vez porque no hemos hecho nada\n",
        "information = open(\"warframes.txt\", \"r\")\n",
        "# Antes de intentar ver o escribir nada, es recomendable comprobar si se puede leer el archivo\n",
        "print(information.readable())\n",
        "# Al haber usado el modo w, no se puede leer, así que mostrará \"True\"\n",
        "print(information.read())\n",
        "# También puedes leer sólo 1 línea\n",
        "print(information.readline())\n",
        "# Leer por líneas pero unas cuántas\n",
        "print(information.readline())\n",
        "print(information.readline())\n",
        "# O hacer una lista con todas las líneas\n",
        "information = open(\"warframes.txt\", \"r\")\n",
        "print(information.readlines())\n",
        "# Que nos puede servir para escribir sólo 1 línea\n",
        "# Importante abrir el archivo cada vez que se quiera manipular\n",
        "information = open(\"warframes.txt\", \"r\")\n",
        "print(information.readlines()[1])"
      ],
      "metadata": {
        "id": "sn08_RN3J_20",
        "colab": {
          "base_uri": "https://localhost:8080/"
        },
        "outputId": "a6f4a4b3-7342-45ae-989c-56cc3189a848"
      },
      "execution_count": null,
      "outputs": [
        {
          "output_type": "stream",
          "name": "stdout",
          "text": [
            "True\n",
            "\n",
            "Tanque - Baruuk\n",
            "\n",
            "\n",
            "\n",
            "['\\n', 'Tanque - Baruuk']\n",
            "Tanque - Baruuk\n"
          ]
        }
      ]
    },
    {
      "cell_type": "markdown",
      "source": [
        "# Módulos"
      ],
      "metadata": {
        "id": "3g_8RQ2VOdvy"
      }
    },
    {
      "cell_type": "markdown",
      "source": [
        "La idea de esto es usar código de otros archivos de Python (.py), pero al ser esto un cuaderno de Colab lo que vamos a hacer es tener las funciones en una celda y "
      ],
      "metadata": {
        "id": "Jy4Zt6z7OnD2"
      }
    },
    {
      "cell_type": "code",
      "source": [
        "import random\n",
        "\n",
        "\n",
        "def ask_username():\n",
        "    return print(input(\"Enter your name: \"))\n",
        "\n",
        "def roll_dice(num):\n",
        "    return random.randint(1, num)"
      ],
      "metadata": {
        "id": "ajf-sBTTaMdV"
      },
      "execution_count": null,
      "outputs": []
    },
    {
      "cell_type": "code",
      "source": [
        "# Es parecido a importar una librería, pero en su lugar importas un archivo de Python\n",
        "# Vamos a hacer una función en módulosP para usarla aquí\n",
        "print(roll_dice(10))\n",
        "# Podemos usar como módulo un archivo creado por nosotros, pero hay muchos módulos externos en\n",
        "# External Libraries > python3.9\n",
        "# Necesitas pip para las librerías externas que encuentres por Internet.\n",
        "# En Linux es con sudo apt install python3-pip\n",
        "# Lo que instales con pip se va a ir a \"External Libraries > site-packages\"\n",
        "# \"pip install (módulo)\" o \"pip uninstall (módulo)\""
      ],
      "metadata": {
        "id": "L_6vDZNsOfpJ",
        "colab": {
          "base_uri": "https://localhost:8080/"
        },
        "outputId": "fb25d2cd-ccee-4876-e593-299650878c74"
      },
      "execution_count": null,
      "outputs": [
        {
          "output_type": "stream",
          "name": "stdout",
          "text": [
            "2\n"
          ]
        }
      ]
    },
    {
      "cell_type": "markdown",
      "source": [
        "# Clases / Objetos"
      ],
      "metadata": {
        "id": "Wd-TSLhS8gn7"
      }
    },
    {
      "cell_type": "code",
      "source": [
        "# Los tipos de datos en Python se limitan a strings y números que podemos organizar en listas y diccionarios\n",
        "# No son suficientes para cubrir todos los tipos de datos.\n",
        "# Eso es exactamente lo que podemos hacer con las clases, crear tipos nuevos\n",
        "# Vamos a definir una clase\n",
        "class Student:\n",
        "    def __init__(self, name, major, gpa, is_on_probation):\n",
        "        self.name = name\n",
        "        self.major = major\n",
        "        self.gpa = gpa\n",
        "        self.is_on_probation = is_on_probation\n",
        "# Las clases pueden tener sus propias funciones\n",
        "    def on_honor_roll(self):\n",
        "        if self.gpa >= 3.5:\n",
        "            return True\n",
        "        else:\n",
        "            return False\n",
        "\n",
        "\n",
        "# \"self\" se está refiriendo al objeto\n",
        "# El código dice que [nombre del objeto].name va a mostrar su nombre, y así con todo lo demás\n",
        "# También tenemos dentro de la clase una función que indica si un estudiante está aprobado usando su GPA\n",
        "\n",
        "student1 = Student(\"Jim\", \"Programación\", 3.1, False)\n",
        "student2 = Student(\"Jesús\", \"Religión\", 17, True)\n",
        "# Le damos a una variable los valores que tiene que tener un estudiante, determinados en el archivo anterior\n",
        "print(student1.gpa)\n",
        "# Ahora podemos usar print con el valor en concreto de uno de los estudiantes\n",
        "print(student2.major)\n",
        "# El hecho de haber hecho una clase para estudiantes significa que podemos crear tantos estudiantes como queramos\n",
        "# bajo dicha clase, guardando sus valores en diferentes variables"
      ],
      "metadata": {
        "id": "lusf9Y1w8iaV",
        "colab": {
          "base_uri": "https://localhost:8080/"
        },
        "outputId": "2b4284dc-4f79-48e4-970d-ba443c51c7db"
      },
      "execution_count": null,
      "outputs": [
        {
          "output_type": "stream",
          "name": "stdout",
          "text": [
            "3.1\n",
            "Religión\n"
          ]
        }
      ]
    },
    {
      "cell_type": "code",
      "source": [
        "# Usamos la clase anterior otra vez\n",
        "student1 = Student(\"Oscar\", \"Contabilidad\", 4, True)\n",
        "student2 = Student(\"Tim\", \"Religion\", 1, False)\n",
        "\n",
        "print(student1.on_honor_roll())\n",
        "print(student2.on_honor_roll())"
      ],
      "metadata": {
        "id": "VcHkv2jv8moE",
        "colab": {
          "base_uri": "https://localhost:8080/"
        },
        "outputId": "32aa950c-fc22-4ad9-89df-c068f121c930"
      },
      "execution_count": null,
      "outputs": [
        {
          "output_type": "stream",
          "name": "stdout",
          "text": [
            "True\n",
            "False\n"
          ]
        }
      ]
    },
    {
      "cell_type": "markdown",
      "source": [
        "# Test"
      ],
      "metadata": {
        "id": "COh7ErgkSTFa"
      }
    },
    {
      "cell_type": "code",
      "source": [
        "respuesta = input(\"¿Qué sistema operativo usa el Samuel?\\nA: Windows\\nB: Pop!_OS\\nC: macOS\\n(Responde con la letra de la opción)\\n\")\n",
        "while respuesta != \"B\":\n",
        "    print(\"Incorrecto. Prueba otra vez\")\n",
        "    respuesta = input()\n",
        "\n",
        "print(\"Muy bien\")"
      ],
      "metadata": {
        "id": "Vo2m2wTFSjUU",
        "colab": {
          "base_uri": "https://localhost:8080/"
        },
        "outputId": "3c236634-601c-41f1-d5d7-953a0df0f669"
      },
      "execution_count": null,
      "outputs": [
        {
          "output_type": "stream",
          "name": "stdout",
          "text": [
            "¿Qué sistema operativo usa el Samuel?\n",
            "A: Windows\n",
            "B: Pop!_OS\n",
            "C: macOS\n",
            "(Responde con la letra de la opción)\n",
            "A\n",
            "Incorrecto. Prueba otra vez\n",
            "C\n",
            "Incorrecto. Prueba otra vez\n",
            "B\n",
            "Muy bien\n"
          ]
        }
      ]
    },
    {
      "cell_type": "markdown",
      "source": [
        "# Herencia"
      ],
      "metadata": {
        "id": "dEd77JPuA5Hg"
      }
    },
    {
      "cell_type": "code",
      "source": [
        "# La herencia consiste que una clase pueda usar las funciones de otra\n",
        "# Vamos a usar de ejemplo a un chef y un chef chino\n",
        "class Chef:\n",
        "\n",
        "    def make_chicken(self):\n",
        "        print(\"The chef makes a chicken\")\n",
        "\n",
        "    def make_salad(self):\n",
        "        print(\"The chef makes a salad\")\n",
        "\n",
        "    def make_special_dish(self):\n",
        "        print(\"The chef makes a escalestris\")\n",
        "# Definimos 3 funciones para chef normales\n",
        "# Ahora al momento de hacer al chef chino vamos a citar al chef normal para que pueda usar sus funciones\n",
        "# Es tan fácil como poner el nombre de la clase que queremos heredar entre paréntesis\n",
        "class ChineseChef(Chef):\n",
        "    def make_fried_rice(self):\n",
        "        print(\"The chef makes fried rice\")\n",
        "\n",
        "Chef1 = ChineseChef()\n",
        "ChineseChef.make_chicken(Chef1)"
      ],
      "metadata": {
        "id": "MRaEt8J3A8Hu",
        "colab": {
          "base_uri": "https://localhost:8080/"
        },
        "outputId": "8b57640e-2768-445f-b91a-7cbbcd9d631e"
      },
      "execution_count": null,
      "outputs": [
        {
          "output_type": "stream",
          "name": "stdout",
          "text": [
            "The chef makes a chicken\n"
          ]
        }
      ]
    },
    {
      "cell_type": "markdown",
      "source": [
        "# Fin"
      ],
      "metadata": {
        "id": "nVIO4VkRTx_s"
      }
    },
    {
      "cell_type": "markdown",
      "source": [
        "<h2>¡Enhorabuena!"
      ],
      "metadata": {
        "id": "xzq0J7iyT1_v"
      }
    },
    {
      "cell_type": "markdown",
      "source": [
        "¡Ya eres todo un programador! Si has ido punto por punto, claro"
      ],
      "metadata": {
        "id": "v9h_MPupT7E7"
      }
    },
    {
      "cell_type": "markdown",
      "source": [
        "¿Te ha quedado alguna duda? No te cortes y pregunta poniendo un comentario en este mismo cuaderno, por el chat de la comunidad o por privado a mi Discord. Lo tienes en los créditos y tengo los MDs abiertos"
      ],
      "metadata": {
        "id": "Acakuc6oUPo5"
      }
    },
    {
      "cell_type": "code",
      "source": [
        "uwu = \"<3 \" * 100\n",
        "print(uwu)"
      ],
      "metadata": {
        "colab": {
          "base_uri": "https://localhost:8080/"
        },
        "id": "3ZW4uG-cXnU3",
        "outputId": "4d32ddaa-1528-4771-f85e-ff96c5aa5442"
      },
      "execution_count": null,
      "outputs": [
        {
          "output_type": "stream",
          "name": "stdout",
          "text": [
            "<3 <3 <3 <3 <3 <3 <3 <3 <3 <3 <3 <3 <3 <3 <3 <3 <3 <3 <3 <3 <3 <3 <3 <3 <3 <3 <3 <3 <3 <3 <3 <3 <3 <3 <3 <3 <3 <3 <3 <3 <3 <3 <3 <3 <3 <3 <3 <3 <3 <3 <3 <3 <3 <3 <3 <3 <3 <3 <3 <3 <3 <3 <3 <3 <3 <3 <3 <3 <3 <3 <3 <3 <3 <3 <3 <3 <3 <3 <3 <3 <3 <3 <3 <3 <3 <3 <3 <3 <3 <3 <3 <3 <3 <3 <3 <3 <3 <3 <3 <3 \n"
          ]
        }
      ]
    },
    {
      "cell_type": "markdown",
      "source": [
        "<h2>¿Y ahora qué?"
      ],
      "metadata": {
        "id": "JjpbRqlrUuXL"
      }
    },
    {
      "cell_type": "markdown",
      "source": [
        "Bueno, yo te recomendaría que aún siguieras practicando por tu cuenta. Haciendo programas, estudiando frameworks que te interesen (Flask para hacer aplicaciones web, por ejemplo), o si te atreves, que te veas [este vídeo sobre Tensorflow](https://youtu.be/tPYj3fFJGjk) para empezar con el machine learning al fin\n",
        "\n",
        "No he visto el vídeo todavía pero siendo de FreeCodeCamp y habiendo visto la primera media hora, creo que el autor está más que capacitado para enseñarte lo que vayas a necesitar. Además, lo más probable es que comparta un cuaderno sobre Tensorflow más adelante"
      ],
      "metadata": {
        "id": "e4tg_1EmUI2M"
      }
    },
    {
      "cell_type": "markdown",
      "source": [
        "# Créditos"
      ],
      "metadata": {
        "id": "OfORYwKV73pr"
      }
    },
    {
      "cell_type": "markdown",
      "source": [
        "<h2>Este maravilloso cuaderno ha sido creado por Samuel Jiménez Robles</h2>\n",
        "<h3>(\"@Samuelico#2389\" en Discord)</h3>\n",
        "\n",
        "Si quieres revisar más contenido sobre programación desarrollado por mí, puedes pasarte por [mi Github](https://github.com/elsamuel27), donde puedes encontrar desde una ruleta hasta una \"calculadora 2\" pasando por un descargador de YouTube"
      ],
      "metadata": {
        "id": "k8C2GVp28AkN"
      }
    }
  ]
}